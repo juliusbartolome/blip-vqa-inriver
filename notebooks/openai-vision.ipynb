{
 "cells": [
  {
   "cell_type": "markdown",
   "source": [
    "# OpenAI Vision API (Preview\n",
    "\n",
    "This notebook demonstrates how to use the OpenAI Vision API to determine if a product is in stock or out of stock. The API uses GPT-4 to analyze an image and provide a response. The API is currently in preview and is not available to the public.\n",
    "\n",
    "__Note:__ The OpenAI Vision API is currently in preview and is not available to the public. You will need to have access to the API to use it.\n",
    "\n",
    "__Note:__ Processing images with the OpenAI Vision API may incur additional costs. With the current pricing and the images tested in this notebook, the cost was approximately $0.01 per image."
   ],
   "metadata": {
    "collapsed": false
   },
   "id": "8ff46a3f5dd67cad"
  },
  {
   "cell_type": "code",
   "execution_count": null,
   "id": "initial_id",
   "metadata": {},
   "outputs": [],
   "source": [
    "import json\n",
    "import os\n",
    "import pandas as pd\n",
    "from openai import OpenAI\n",
    "\n",
    "openai_api_key = os.environ.get(\"OPENAI_API_KEY\")\n",
    "client = OpenAI(api_key=openai_api_key)\n",
    "def get_openai_vision_response(prompt_text: str, img_url: str):\n",
    "    response = client.chat.completions.create(\n",
    "        model=\"gpt-4-vision-preview\",\n",
    "        messages=[\n",
    "            {\n",
    "                \"role\": \"user\",\n",
    "                \"content\": [\n",
    "                    {\"type\": \"text\", \"text\": prompt_text},\n",
    "                    {\n",
    "                        \"type\": \"image_url\",\n",
    "                        \"image_url\": {\n",
    "                            \"url\": img_url,\n",
    "                        },\n",
    "                    },\n",
    "                ],\n",
    "            }\n",
    "        ],\n",
    "        max_tokens=5,\n",
    "    )\n",
    "    \n",
    "    return response.choices[0].message.content\n",
    "    \n",
    "def load_input_data():\n",
    "    with open('../input.json', 'r') as file:\n",
    "        json_data = json.load(file)\n",
    "    return json_data\n",
    "\n",
    "def color_cells(row):\n",
    "    if row[\"In-Stock\"] == \"Yes\" and row[\"Out-of-Stock\"] == \"No\":\n",
    "        return [\"background-color: #296644\"] * len(row)\n",
    "    else:\n",
    "        return [\"background-color: #82323a\"] * len(row)"
   ]
  },
  {
   "cell_type": "markdown",
   "source": [
    "## Execution\n",
    "\n",
    "The code below will load the input data from the `input.json` file and then use the OpenAI Vision API to determine if the product is in stock or out of stock. The results will be displayed in a table with green cells indicating the product is in stock and red cells indicating the product is out of stock."
   ],
   "metadata": {
    "collapsed": false
   },
   "id": "44d0e3f69f151f3f"
  },
  {
   "cell_type": "code",
   "execution_count": null,
   "id": "512f5ad71aa8d67e",
   "metadata": {
    "collapsed": false
   },
   "outputs": [],
   "source": [
    "data = load_input_data()\n",
    "\n",
    "prompt = \"Is the product available for purchase? Please answer 'Yes' or 'No' only.\"\n",
    "df = pd.DataFrame(columns=[\"Source\", \"In-Stock\", \"Out-of-Stock\"])\n",
    "\n",
    "for i in range(0, len(data)):\n",
    "    in_stock_img_url = data[i]['in_stock']\n",
    "    in_stock_response = get_openai_vision_response(prompt, in_stock_img_url)\n",
    "\n",
    "    out_of_stock_img_url = data[i]['out_of_stock']\n",
    "    out_of_stock_response = get_openai_vision_response(prompt, out_of_stock_img_url)\n",
    "\n",
    "    df.loc[i] = [data[i][\"name\"], in_stock_response, out_of_stock_response]\n",
    "\n",
    "print(f\"{prompt}\")\n",
    "df.style.apply(color_cells, axis=1)"
   ]
  }
 ],
 "metadata": {
  "kernelspec": {
   "display_name": "Python 3 (ipykernel)",
   "language": "python",
   "name": "python3"
  },
  "language_info": {
   "codemirror_mode": {
    "name": "ipython",
    "version": 3
   },
   "file_extension": ".py",
   "mimetype": "text/x-python",
   "name": "python",
   "nbconvert_exporter": "python",
   "pygments_lexer": "ipython3",
   "version": "3.9.18"
  }
 },
 "nbformat": 4,
 "nbformat_minor": 5
}
