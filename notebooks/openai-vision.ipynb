{
 "cells": [
  {
   "cell_type": "markdown",
   "source": [
    "# OpenAI Vision API (Preview)\n",
    "\n",
    "This notebook demonstrates how to use the OpenAI Vision API to determine if a product is in stock or out of stock. The API uses GPT-4 to analyze an image and provide a response. The API is currently in preview and is not available to the public.\n",
    "\n",
    "__Note:__ The OpenAI Vision API is currently in preview and is not available to the public. You will need to have access to the API to use it.\n",
    "\n",
    "__Note:__ Processing images with the OpenAI Vision API may incur additional costs. With the current pricing and the images tested in this notebook, the cost was approximately $0.01 per image."
   ],
   "metadata": {
    "collapsed": false
   },
   "id": "8ff46a3f5dd67cad"
  },
  {
   "cell_type": "code",
   "execution_count": 32,
   "id": "initial_id",
   "metadata": {
    "ExecuteTime": {
     "end_time": "2024-02-22T17:24:22.486059Z",
     "start_time": "2024-02-22T17:24:21.986373Z"
    }
   },
   "outputs": [],
   "source": [
    "import base64\n",
    "import json\n",
    "import os\n",
    "import re\n",
    "import requests\n",
    "import pandas as pd\n",
    "from openai import OpenAI\n",
    "from IPython.display import display, Image\n",
    "\n",
    "openai_api_key = os.environ.get(\"OPENAI_API_KEY\")\n",
    "client = OpenAI(api_key=openai_api_key)\n",
    "\n",
    "class CustomOpenAIResponse:\n",
    "    def __init__(self, content: str, total_tokens: int):\n",
    "        self.content = content\n",
    "        self.total_tokens = total_tokens\n",
    "\n",
    "content_pattern = re.compile('[^a-zA-Z\\s]')\n",
    "def get_openai_vision_response(prompt_text: str, img_url: str):\n",
    "    response = client.chat.completions.create(\n",
    "        model=\"gpt-4-vision-preview\",\n",
    "        messages=[\n",
    "            {\n",
    "                \"role\": \"user\",\n",
    "                \"content\": [\n",
    "                    {\"type\": \"text\", \"text\": prompt_text},\n",
    "                    {\n",
    "                        \"type\": \"image_url\",\n",
    "                        \"image_url\": {\n",
    "                            \"url\": img_url,\n",
    "                        },\n",
    "                    },\n",
    "                ],\n",
    "            }\n",
    "        ],\n",
    "        max_tokens=100,\n",
    "    )\n",
    "    \n",
    "    content = content_pattern.sub('', response.choices[0].message.content)\n",
    "    return CustomOpenAIResponse(content, response.usage.total_tokens)\n",
    "    \n",
    "def load_input_data(input_file_path):\n",
    "    with open(input_file_path, 'r') as file:\n",
    "        json_data = json.load(file)\n",
    "    return json_data\n",
    "\n",
    "def load_base64_image_from_url(img_url):\n",
    "    response = requests.get(img_url)\n",
    "    img_data = base64.b64encode(response.content).decode('utf-8')\n",
    "    return img_data\n",
    "\n",
    "def color_cells(row):\n",
    "    if row[\"In-Stock\"] == \"Yes\" and row[\"Out-of-Stock\"] == \"No\":\n",
    "        return [\"background-color: #296644\"] * len(row)\n",
    "    else:\n",
    "        return [\"background-color: #82323a\"] * len(row)"
   ]
  },
  {
   "cell_type": "markdown",
   "source": [
    "## Execution\n",
    "\n",
    "The code below will load the input data from the `input.json` file and then use the OpenAI Vision API to determine if the product is in stock or out of stock. The results will be displayed in a table with green cells indicating the product is in stock and red cells indicating the product is out of stock."
   ],
   "metadata": {
    "collapsed": false
   },
   "id": "44d0e3f69f151f3f"
  },
  {
   "cell_type": "code",
   "execution_count": 35,
   "id": "512f5ad71aa8d67e",
   "metadata": {
    "collapsed": false,
    "ExecuteTime": {
     "end_time": "2024-02-22T17:25:25.606091Z",
     "start_time": "2024-02-22T17:25:25.585619Z"
    }
   },
   "outputs": [],
   "source": [
    "img_size = 500\n",
    "\n",
    "prompt = \"Is the product available for purchase? Please answer 'Yes' or 'No' only.\"\n",
    "\n",
    "def process_data(data):\n",
    "    total_tokens_used = 0\n",
    "    df = pd.DataFrame(columns=[\"Source\", \"In-Stock\", \"Out-of-Stock\", \"IS Image\", \"OOS Image\"])\n",
    "\n",
    "    for i in range(0, len(data)):\n",
    "        in_stock_img_url = data[i]['in_stock']\n",
    "        in_stock_response = get_openai_vision_response(prompt, in_stock_img_url)\n",
    "        total_tokens_used += in_stock_response.total_tokens\n",
    "    \n",
    "        out_of_stock_img_url = data[i]['out_of_stock']\n",
    "        out_of_stock_response = get_openai_vision_response(prompt, out_of_stock_img_url)\n",
    "        total_tokens_used += out_of_stock_response.total_tokens\n",
    "    \n",
    "        in_stock_img_tag = f'<img src=\"{in_stock_img_url}\" width=\"{img_size}\" height=\"{img_size}\">'\n",
    "        out_of_stock_img_tag = f'<img src=\"{out_of_stock_img_url}\" width=\"{img_size}\" height=\"{img_size}\">'\n",
    "    \n",
    "        df.loc[i] = [data[i][\"name\"], in_stock_response.content, out_of_stock_response.content, in_stock_img_tag, out_of_stock_img_tag]\n",
    "\n",
    "    print(f\"Total tokens used: {total_tokens_used}\")\n",
    "    return df"
   ]
  },
  {
   "cell_type": "code",
   "outputs": [
    {
     "name": "stdout",
     "output_type": "stream",
     "text": [
      "Total tokens used: 21260\n"
     ]
    },
    {
     "data": {
      "text/plain": "<pandas.io.formats.style.Styler at 0x1440da282e0>",
      "text/html": "<style type=\"text/css\">\n#T_818f4_row0_col0, #T_818f4_row0_col1, #T_818f4_row0_col2, #T_818f4_row0_col3, #T_818f4_row0_col4, #T_818f4_row1_col0, #T_818f4_row1_col1, #T_818f4_row1_col2, #T_818f4_row1_col3, #T_818f4_row1_col4, #T_818f4_row2_col0, #T_818f4_row2_col1, #T_818f4_row2_col2, #T_818f4_row2_col3, #T_818f4_row2_col4, #T_818f4_row3_col0, #T_818f4_row3_col1, #T_818f4_row3_col2, #T_818f4_row3_col3, #T_818f4_row3_col4, #T_818f4_row4_col0, #T_818f4_row4_col1, #T_818f4_row4_col2, #T_818f4_row4_col3, #T_818f4_row4_col4, #T_818f4_row5_col0, #T_818f4_row5_col1, #T_818f4_row5_col2, #T_818f4_row5_col3, #T_818f4_row5_col4, #T_818f4_row6_col0, #T_818f4_row6_col1, #T_818f4_row6_col2, #T_818f4_row6_col3, #T_818f4_row6_col4, #T_818f4_row7_col0, #T_818f4_row7_col1, #T_818f4_row7_col2, #T_818f4_row7_col3, #T_818f4_row7_col4, #T_818f4_row8_col0, #T_818f4_row8_col1, #T_818f4_row8_col2, #T_818f4_row8_col3, #T_818f4_row8_col4, #T_818f4_row9_col0, #T_818f4_row9_col1, #T_818f4_row9_col2, #T_818f4_row9_col3, #T_818f4_row9_col4 {\n  background-color: #296644;\n}\n</style>\n<table id=\"T_818f4\">\n  <thead>\n    <tr>\n      <th class=\"blank level0\" >&nbsp;</th>\n      <th id=\"T_818f4_level0_col0\" class=\"col_heading level0 col0\" >Source</th>\n      <th id=\"T_818f4_level0_col1\" class=\"col_heading level0 col1\" >In-Stock</th>\n      <th id=\"T_818f4_level0_col2\" class=\"col_heading level0 col2\" >Out-of-Stock</th>\n      <th id=\"T_818f4_level0_col3\" class=\"col_heading level0 col3\" >IS Image</th>\n      <th id=\"T_818f4_level0_col4\" class=\"col_heading level0 col4\" >OOS Image</th>\n    </tr>\n  </thead>\n  <tbody>\n    <tr>\n      <th id=\"T_818f4_level0_row0\" class=\"row_heading level0 row0\" >0</th>\n      <td id=\"T_818f4_row0_col0\" class=\"data row0 col0\" >alkosto.com</td>\n      <td id=\"T_818f4_row0_col1\" class=\"data row0 col1\" >Yes</td>\n      <td id=\"T_818f4_row0_col2\" class=\"data row0 col2\" >No</td>\n      <td id=\"T_818f4_row0_col3\" class=\"data row0 col3\" ><img src=\"https://img001.prntscr.com/file/img001/Rd5e6SJARZm9OplHevI54A.png\" width=\"500\" height=\"500\"></td>\n      <td id=\"T_818f4_row0_col4\" class=\"data row0 col4\" ><img src=\"https://img001.prntscr.com/file/img001/v3JQkBjSQ2KzmNDFJf8DfA.png\" width=\"500\" height=\"500\"></td>\n    </tr>\n    <tr>\n      <th id=\"T_818f4_level0_row1\" class=\"row_heading level0 row1\" >1</th>\n      <td id=\"T_818f4_row1_col0\" class=\"data row1 col0\" >alza.cz</td>\n      <td id=\"T_818f4_row1_col1\" class=\"data row1 col1\" >Yes</td>\n      <td id=\"T_818f4_row1_col2\" class=\"data row1 col2\" >No</td>\n      <td id=\"T_818f4_row1_col3\" class=\"data row1 col3\" ><img src=\"https://img001.prntscr.com/file/img001/RXWow4UKTDKXySEshfV6Cg.png\" width=\"500\" height=\"500\"></td>\n      <td id=\"T_818f4_row1_col4\" class=\"data row1 col4\" ><img src=\"https://img001.prntscr.com/file/img001/6aWiJaT8Q5SipHDyhM20JA.png\" width=\"500\" height=\"500\"></td>\n    </tr>\n    <tr>\n      <th id=\"T_818f4_level0_row2\" class=\"row_heading level0 row2\" >2</th>\n      <td id=\"T_818f4_row2_col0\" class=\"data row2 col0\" >bestbuy.com</td>\n      <td id=\"T_818f4_row2_col1\" class=\"data row2 col1\" >Yes</td>\n      <td id=\"T_818f4_row2_col2\" class=\"data row2 col2\" >No</td>\n      <td id=\"T_818f4_row2_col3\" class=\"data row2 col3\" ><img src=\"https://img001.prntscr.com/file/img001/OoQc6lVtRIimKpk2ujMJmQ.png\" width=\"500\" height=\"500\"></td>\n      <td id=\"T_818f4_row2_col4\" class=\"data row2 col4\" ><img src=\"https://img001.prntscr.com/file/img001/_etLeg4RTheIC0i0hog5rQ.png\" width=\"500\" height=\"500\"></td>\n    </tr>\n    <tr>\n      <th id=\"T_818f4_level0_row3\" class=\"row_heading level0 row3\" >3</th>\n      <td id=\"T_818f4_row3_col0\" class=\"data row3 col0\" >biccamera.com</td>\n      <td id=\"T_818f4_row3_col1\" class=\"data row3 col1\" >Yes</td>\n      <td id=\"T_818f4_row3_col2\" class=\"data row3 col2\" >No</td>\n      <td id=\"T_818f4_row3_col3\" class=\"data row3 col3\" ><img src=\"https://img001.prntscr.com/file/img001/zTqu8uVLTfuB8rXvjZ_hhg.png\" width=\"500\" height=\"500\"></td>\n      <td id=\"T_818f4_row3_col4\" class=\"data row3 col4\" ><img src=\"https://img001.prntscr.com/file/img001/T0K7_Hu8SjWScLs8lwh6Gg.png\" width=\"500\" height=\"500\"></td>\n    </tr>\n    <tr>\n      <th id=\"T_818f4_level0_row4\" class=\"row_heading level0 row4\" >4</th>\n      <td id=\"T_818f4_row4_col0\" class=\"data row4 col0\" >coolblue.nl</td>\n      <td id=\"T_818f4_row4_col1\" class=\"data row4 col1\" >Yes</td>\n      <td id=\"T_818f4_row4_col2\" class=\"data row4 col2\" >No</td>\n      <td id=\"T_818f4_row4_col3\" class=\"data row4 col3\" ><img src=\"https://img001.prntscr.com/file/img001/X8pO0Eg8RNOq_TcuqWuyTQ.png\" width=\"500\" height=\"500\"></td>\n      <td id=\"T_818f4_row4_col4\" class=\"data row4 col4\" ><img src=\"https://img001.prntscr.com/file/img001/eOZK9qagSSSX1nBNEKh9WQ.png\" width=\"500\" height=\"500\"></td>\n    </tr>\n    <tr>\n      <th id=\"T_818f4_level0_row5\" class=\"row_heading level0 row5\" >5</th>\n      <td id=\"T_818f4_row5_col0\" class=\"data row5 col0\" >costco.com</td>\n      <td id=\"T_818f4_row5_col1\" class=\"data row5 col1\" >Yes</td>\n      <td id=\"T_818f4_row5_col2\" class=\"data row5 col2\" >No</td>\n      <td id=\"T_818f4_row5_col3\" class=\"data row5 col3\" ><img src=\"https://img001.prntscr.com/file/img001/PFu5iOsNQ0ub-5jmkGNTpQ.png\" width=\"500\" height=\"500\"></td>\n      <td id=\"T_818f4_row5_col4\" class=\"data row5 col4\" ><img src=\"https://img001.prntscr.com/file/img001/QpBCHykYT9aZvCkpAl4ulA.png\" width=\"500\" height=\"500\"></td>\n    </tr>\n    <tr>\n      <th id=\"T_818f4_level0_row6\" class=\"row_heading level0 row6\" >6</th>\n      <td id=\"T_818f4_row6_col0\" class=\"data row6 col0\" >digitec.ch.de</td>\n      <td id=\"T_818f4_row6_col1\" class=\"data row6 col1\" >Yes</td>\n      <td id=\"T_818f4_row6_col2\" class=\"data row6 col2\" >No</td>\n      <td id=\"T_818f4_row6_col3\" class=\"data row6 col3\" ><img src=\"https://img001.prntscr.com/file/img001/Fw3thD-hQl6Ue9H9mOsBbg.png\" width=\"500\" height=\"500\"></td>\n      <td id=\"T_818f4_row6_col4\" class=\"data row6 col4\" ><img src=\"https://img001.prntscr.com/file/img001/ntbasfN-SwabOQdVijQ5Nw.png\" width=\"500\" height=\"500\"></td>\n    </tr>\n    <tr>\n      <th id=\"T_818f4_level0_row7\" class=\"row_heading level0 row7\" >7</th>\n      <td id=\"T_818f4_row7_col0\" class=\"data row7 col0\" >yodobashi.com</td>\n      <td id=\"T_818f4_row7_col1\" class=\"data row7 col1\" >Yes</td>\n      <td id=\"T_818f4_row7_col2\" class=\"data row7 col2\" >No</td>\n      <td id=\"T_818f4_row7_col3\" class=\"data row7 col3\" ><img src=\"https://img001.prntscr.com/file/img001/BoRZpLU4Tf2qyf1tW1EyBw.png\" width=\"500\" height=\"500\"></td>\n      <td id=\"T_818f4_row7_col4\" class=\"data row7 col4\" ><img src=\"https://img001.prntscr.com/file/img001/gkpdOkekQ5G8uqPopqJFLg.png\" width=\"500\" height=\"500\"></td>\n    </tr>\n    <tr>\n      <th id=\"T_818f4_level0_row8\" class=\"row_heading level0 row8\" >8</th>\n      <td id=\"T_818f4_row8_col0\" class=\"data row8 col0\" >yamada.denkiweb.com</td>\n      <td id=\"T_818f4_row8_col1\" class=\"data row8 col1\" >Yes</td>\n      <td id=\"T_818f4_row8_col2\" class=\"data row8 col2\" >No</td>\n      <td id=\"T_818f4_row8_col3\" class=\"data row8 col3\" ><img src=\"https://img001.prntscr.com/file/img001/Tm5tU2wQRxKwY2VfJlMIQg.png\" width=\"500\" height=\"500\"></td>\n      <td id=\"T_818f4_row8_col4\" class=\"data row8 col4\" ><img src=\"https://img001.prntscr.com/file/img001/PU9IgJ9OSU6q5R3S1sT0VA.png\" width=\"500\" height=\"500\"></td>\n    </tr>\n    <tr>\n      <th id=\"T_818f4_level0_row9\" class=\"row_heading level0 row9\" >9</th>\n      <td id=\"T_818f4_row9_col0\" class=\"data row9 col0\" >walmart.com</td>\n      <td id=\"T_818f4_row9_col1\" class=\"data row9 col1\" >Yes</td>\n      <td id=\"T_818f4_row9_col2\" class=\"data row9 col2\" >No</td>\n      <td id=\"T_818f4_row9_col3\" class=\"data row9 col3\" ><img src=\"https://img001.prntscr.com/file/img001/MIdt0qBHR6O6zgUusrzeaQ.png\" width=\"500\" height=\"500\"></td>\n      <td id=\"T_818f4_row9_col4\" class=\"data row9 col4\" ><img src=\"https://img001.prntscr.com/file/img001/D7HgNXh5Rq-IwVHVi8Ulig.png\" width=\"500\" height=\"500\"></td>\n    </tr>\n  </tbody>\n</table>\n"
     },
     "execution_count": 37,
     "metadata": {},
     "output_type": "execute_result"
    }
   ],
   "source": [
    "batch_data = load_input_data('../input.json')\n",
    "output_df = process_data(batch_data)\n",
    "output_df.style.apply(color_cells, axis=1)"
   ],
   "metadata": {
    "collapsed": false,
    "ExecuteTime": {
     "end_time": "2024-02-22T17:27:31.347073Z",
     "start_time": "2024-02-22T17:25:59.939976Z"
    }
   },
   "id": "cb8c87ae388a58a5",
   "execution_count": 37
  },
  {
   "cell_type": "code",
   "outputs": [
    {
     "name": "stdout",
     "output_type": "stream",
     "text": [
      "Total tokens used: 19221\n"
     ]
    },
    {
     "data": {
      "text/plain": "<pandas.io.formats.style.Styler at 0x1440f987df0>",
      "text/html": "<style type=\"text/css\">\n#T_ddaff_row0_col0, #T_ddaff_row0_col1, #T_ddaff_row0_col2, #T_ddaff_row0_col3, #T_ddaff_row0_col4, #T_ddaff_row1_col0, #T_ddaff_row1_col1, #T_ddaff_row1_col2, #T_ddaff_row1_col3, #T_ddaff_row1_col4, #T_ddaff_row3_col0, #T_ddaff_row3_col1, #T_ddaff_row3_col2, #T_ddaff_row3_col3, #T_ddaff_row3_col4, #T_ddaff_row4_col0, #T_ddaff_row4_col1, #T_ddaff_row4_col2, #T_ddaff_row4_col3, #T_ddaff_row4_col4, #T_ddaff_row5_col0, #T_ddaff_row5_col1, #T_ddaff_row5_col2, #T_ddaff_row5_col3, #T_ddaff_row5_col4, #T_ddaff_row6_col0, #T_ddaff_row6_col1, #T_ddaff_row6_col2, #T_ddaff_row6_col3, #T_ddaff_row6_col4, #T_ddaff_row7_col0, #T_ddaff_row7_col1, #T_ddaff_row7_col2, #T_ddaff_row7_col3, #T_ddaff_row7_col4, #T_ddaff_row8_col0, #T_ddaff_row8_col1, #T_ddaff_row8_col2, #T_ddaff_row8_col3, #T_ddaff_row8_col4, #T_ddaff_row9_col0, #T_ddaff_row9_col1, #T_ddaff_row9_col2, #T_ddaff_row9_col3, #T_ddaff_row9_col4 {\n  background-color: #82323a;\n}\n#T_ddaff_row2_col0, #T_ddaff_row2_col1, #T_ddaff_row2_col2, #T_ddaff_row2_col3, #T_ddaff_row2_col4 {\n  background-color: #296644;\n}\n</style>\n<table id=\"T_ddaff\">\n  <thead>\n    <tr>\n      <th class=\"blank level0\" >&nbsp;</th>\n      <th id=\"T_ddaff_level0_col0\" class=\"col_heading level0 col0\" >Source</th>\n      <th id=\"T_ddaff_level0_col1\" class=\"col_heading level0 col1\" >In-Stock</th>\n      <th id=\"T_ddaff_level0_col2\" class=\"col_heading level0 col2\" >Out-of-Stock</th>\n      <th id=\"T_ddaff_level0_col3\" class=\"col_heading level0 col3\" >IS Image</th>\n      <th id=\"T_ddaff_level0_col4\" class=\"col_heading level0 col4\" >OOS Image</th>\n    </tr>\n  </thead>\n  <tbody>\n    <tr>\n      <th id=\"T_ddaff_level0_row0\" class=\"row_heading level0 row0\" >0</th>\n      <td id=\"T_ddaff_row0_col0\" class=\"data row0 col0\" >casasbahia.com.br</td>\n      <td id=\"T_ddaff_row0_col1\" class=\"data row0 col1\" >Yes</td>\n      <td id=\"T_ddaff_row0_col2\" class=\"data row0 col2\" >Yes</td>\n      <td id=\"T_ddaff_row0_col3\" class=\"data row0 col3\" ><img src=\"https://msdsawebshots.blob.core.windows.net/ms-webshots/WEBSHOT@2024@week_07@MSFT201908007@casasbahia_com_br.png\" width=\"500\" height=\"500\"></td>\n      <td id=\"T_ddaff_row0_col4\" class=\"data row0 col4\" ><img src=\"https://msdsawebshots.blob.core.windows.net/ms-webshots/WEBSHOT@2024@week_07@PRODUCT_12d1c4c6-3b98-48ad-b807-d64cfe35335c@casasbahia_com_br.png\" width=\"500\" height=\"500\"></td>\n    </tr>\n    <tr>\n      <th id=\"T_ddaff_level0_row1\" class=\"row_heading level0 row1\" >1</th>\n      <td id=\"T_ddaff_row1_col0\" class=\"data row1 col0\" >magazineluiza.com.br</td>\n      <td id=\"T_ddaff_row1_col1\" class=\"data row1 col1\" >No</td>\n      <td id=\"T_ddaff_row1_col2\" class=\"data row1 col2\" >Yes</td>\n      <td id=\"T_ddaff_row1_col3\" class=\"data row1 col3\" ><img src=\"https://msdsawebshots.blob.core.windows.net/ms-webshots/WEBSHOT@2024@week_07@PRODUCT_1084f626-549c-4fc6-8eb3-bcf5113024d2@magazineluiza_com_br.png\" width=\"500\" height=\"500\"></td>\n      <td id=\"T_ddaff_row1_col4\" class=\"data row1 col4\" ><img src=\"https://msdsawebshots.blob.core.windows.net/ms-webshots/WEBSHOT@2024@week_07@PRODUCT_55273c16-4a89-4951-bab0-1e408a393550@magazineluiza_com_br.png\" width=\"500\" height=\"500\"></td>\n    </tr>\n    <tr>\n      <th id=\"T_ddaff_level0_row2\" class=\"row_heading level0 row2\" >2</th>\n      <td id=\"T_ddaff_row2_col0\" class=\"data row2 col0\" >pbtech.co.nz</td>\n      <td id=\"T_ddaff_row2_col1\" class=\"data row2 col1\" >Yes</td>\n      <td id=\"T_ddaff_row2_col2\" class=\"data row2 col2\" >No</td>\n      <td id=\"T_ddaff_row2_col3\" class=\"data row2 col3\" ><img src=\"https://msdsawebshots.blob.core.windows.net/ms-webshots/WEBSHOT@2024@week_07@PRODUCT_099b5fc5-d2ad-4a1e-a9de-fd72b5887231@pbtech_co_nz.png\" width=\"500\" height=\"500\"></td>\n      <td id=\"T_ddaff_row2_col4\" class=\"data row2 col4\" ><img src=\"https://msdsawebshots.blob.core.windows.net/ms-webshots/WEBSHOT@2024@week_08@PRODUCT_32fd784a-34ab-4848-96bd-5a48aa9aef97@pbtech_co_nz.png\" width=\"500\" height=\"500\"></td>\n    </tr>\n    <tr>\n      <th id=\"T_ddaff_level0_row3\" class=\"row_heading level0 row3\" >3</th>\n      <td id=\"T_ddaff_row3_col0\" class=\"data row3 col0\" >alza.cz</td>\n      <td id=\"T_ddaff_row3_col1\" class=\"data row3 col1\" >Yes</td>\n      <td id=\"T_ddaff_row3_col2\" class=\"data row3 col2\" >Yes</td>\n      <td id=\"T_ddaff_row3_col3\" class=\"data row3 col3\" ><img src=\"https://msdsawebshots.blob.core.windows.net/ms-webshots/WEBSHOT@2024@week_07@MSFT202002009@alza_cz.png\" width=\"500\" height=\"500\"></td>\n      <td id=\"T_ddaff_row3_col4\" class=\"data row3 col4\" ><img src=\"https://msdsawebshots.blob.core.windows.net/ms-webshots/WEBSHOT@2024@week_07@MSFT202004129@alza_cz.png\" width=\"500\" height=\"500\"></td>\n    </tr>\n    <tr>\n      <th id=\"T_ddaff_level0_row4\" class=\"row_heading level0 row4\" >4</th>\n      <td id=\"T_ddaff_row4_col0\" class=\"data row4 col0\" >staple.ca</td>\n      <td id=\"T_ddaff_row4_col1\" class=\"data row4 col1\" >Yes</td>\n      <td id=\"T_ddaff_row4_col2\" class=\"data row4 col2\" >Yes</td>\n      <td id=\"T_ddaff_row4_col3\" class=\"data row4 col3\" ><img src=\"https://msdsawebshots.blob.core.windows.net/ms-webshots/WEBSHOT@2024@week_07@PRODUCT_0b5c0364-6815-43ce-a89a-1581e9d6e69d@staples_ca.png\" width=\"500\" height=\"500\"></td>\n      <td id=\"T_ddaff_row4_col4\" class=\"data row4 col4\" ><img src=\"https://msdsawebshots.blob.core.windows.net/ms-webshots/WEBSHOT@2024@week_07@PRODUCT_51df222c-2ec6-493c-84ab-fc4945d7b8d4@staples_ca.png\" width=\"500\" height=\"500\"></td>\n    </tr>\n    <tr>\n      <th id=\"T_ddaff_level0_row5\" class=\"row_heading level0 row5\" >5</th>\n      <td id=\"T_ddaff_row5_col0\" class=\"data row5 col0\" >amazon.fr</td>\n      <td id=\"T_ddaff_row5_col1\" class=\"data row5 col1\" >Yes</td>\n      <td id=\"T_ddaff_row5_col2\" class=\"data row5 col2\" >Yes</td>\n      <td id=\"T_ddaff_row5_col3\" class=\"data row5 col3\" ><img src=\"https://msdsawebshots.blob.core.windows.net/ms-webshots/WEBSHOT@2024@week_07@MSFT201908008@amazon_fr.png\" width=\"500\" height=\"500\"></td>\n      <td id=\"T_ddaff_row5_col4\" class=\"data row5 col4\" ><img src=\"https://msdsawebshots.blob.core.windows.net/ms-webshots/WEBSHOT@2024@week_07@PRODUCT_32fd784a-34ab-4848-96bd-5a48aa9aef97@amazon_fr.png\" width=\"500\" height=\"500\"></td>\n    </tr>\n    <tr>\n      <th id=\"T_ddaff_level0_row6\" class=\"row_heading level0 row6\" >6</th>\n      <td id=\"T_ddaff_row6_col0\" class=\"data row6 col0\" >otto.de</td>\n      <td id=\"T_ddaff_row6_col1\" class=\"data row6 col1\" >Yes</td>\n      <td id=\"T_ddaff_row6_col2\" class=\"data row6 col2\" >Yes</td>\n      <td id=\"T_ddaff_row6_col3\" class=\"data row6 col3\" ><img src=\"https://msdsawebshots.blob.core.windows.net/ms-webshots/WEBSHOT@2024@week_07@MSFT202002012@otto_de.png\" width=\"500\" height=\"500\"></td>\n      <td id=\"T_ddaff_row6_col4\" class=\"data row6 col4\" ><img src=\"https://msdsawebshots.blob.core.windows.net/ms-webshots/WEBSHOT@2024@week_07@MSFT201908009@otto_de.png\" width=\"500\" height=\"500\"></td>\n    </tr>\n    <tr>\n      <th id=\"T_ddaff_level0_row7\" class=\"row_heading level0 row7\" >7</th>\n      <td id=\"T_ddaff_row7_col0\" class=\"data row7 col0\" >currys.co.uk</td>\n      <td id=\"T_ddaff_row7_col1\" class=\"data row7 col1\" >No</td>\n      <td id=\"T_ddaff_row7_col2\" class=\"data row7 col2\" >Yes</td>\n      <td id=\"T_ddaff_row7_col3\" class=\"data row7 col3\" ><img src=\"https://msdsawebshots.blob.core.windows.net/ms-webshots/WEBSHOT@2024@week_07@PRODUCT_11a738e7-f796-4344-adb1-b1ab6bf01c29@currys_co_uk.png\" width=\"500\" height=\"500\"></td>\n      <td id=\"T_ddaff_row7_col4\" class=\"data row7 col4\" ><img src=\"https://msdsawebshots.blob.core.windows.net/ms-webshots/WEBSHOT@2024@week_07@PRODUCT_5f46fa6d-7c7a-4007-92c6-927a0b10ccd5@currys_co_uk.png\" width=\"500\" height=\"500\"></td>\n    </tr>\n    <tr>\n      <th id=\"T_ddaff_level0_row8\" class=\"row_heading level0 row8\" >8</th>\n      <td id=\"T_ddaff_row8_col0\" class=\"data row8 col0\" >ksdenki.com</td>\n      <td id=\"T_ddaff_row8_col1\" class=\"data row8 col1\" >Yes</td>\n      <td id=\"T_ddaff_row8_col2\" class=\"data row8 col2\" >Yes</td>\n      <td id=\"T_ddaff_row8_col3\" class=\"data row8 col3\" ><img src=\"https://msdsawebshots.blob.core.windows.net/ms-webshots/WEBSHOT@2024@week_07@PRODUCT_141c99fa-10b0-4593-a2a9-bdc78ab1e181@ksdenki_com.png\" width=\"500\" height=\"500\"></td>\n      <td id=\"T_ddaff_row8_col4\" class=\"data row8 col4\" ><img src=\"https://msdsawebshots.blob.core.windows.net/ms-webshots/WEBSHOT@2024@week_05@PRODUCT_c4764e42-e0f2-4ce5-a87e-1c244663290c@ksdenki_com.png\" width=\"500\" height=\"500\"></td>\n    </tr>\n    <tr>\n      <th id=\"T_ddaff_level0_row9\" class=\"row_heading level0 row9\" >9</th>\n      <td id=\"T_ddaff_row9_col0\" class=\"data row9 col0\" >edion.com</td>\n      <td id=\"T_ddaff_row9_col1\" class=\"data row9 col1\" >Yes</td>\n      <td id=\"T_ddaff_row9_col2\" class=\"data row9 col2\" >Yes</td>\n      <td id=\"T_ddaff_row9_col3\" class=\"data row9 col3\" ><img src=\"https://msdsawebshots.blob.core.windows.net/ms-webshots/WEBSHOT@2024@week_07@MSFT201908007@edion_com.png\" width=\"500\" height=\"500\"></td>\n      <td id=\"T_ddaff_row9_col4\" class=\"data row9 col4\" ><img src=\"https://msdsawebshots.blob.core.windows.net/ms-webshots/WEBSHOT@2024@week_07@PRODUCT_e5062129-782b-427b-8b46-f293400537d9@edion_com.png\" width=\"500\" height=\"500\"></td>\n    </tr>\n  </tbody>\n</table>\n"
     },
     "execution_count": 39,
     "metadata": {},
     "output_type": "execute_result"
    }
   ],
   "source": [
    "batch_data = load_input_data('../input2.json')\n",
    "output_df = process_data(batch_data)\n",
    "output_df.style.apply(color_cells, axis=1)"
   ],
   "metadata": {
    "collapsed": false,
    "ExecuteTime": {
     "end_time": "2024-02-22T17:32:06.636905Z",
     "start_time": "2024-02-22T17:30:27.314389Z"
    }
   },
   "id": "eb5e81ad75b6ab22",
   "execution_count": 39
  },
  {
   "cell_type": "code",
   "outputs": [
    {
     "data": {
      "text/html": "<img src=\"https://i2-prod.mirror.co.uk/incoming/article7539650.ece/ALTERNATES/s1200/Chihuahua-or-Muffin.jpg\"/>",
      "text/plain": "<IPython.core.display.Image object>"
     },
     "metadata": {},
     "output_type": "display_data"
    },
    {
     "name": "stdout",
     "output_type": "stream",
     "text": [
      "The image is a humorous mix of Chihuahuas and blueberry muffins designed to play on the visual similarities between the two To identify each you need to look closely as the Chihuahuas have eyes and noses that reflect light differently than the blueberries and their texture varies from the more granular look of the muffins\n",
      "\n",
      "In this image there appears to be an equal number of Chihuahuas and blueberry muffins with each type alternating in the grid\n"
     ]
    }
   ],
   "source": [
    "url = 'https://i2-prod.mirror.co.uk/incoming/article7539650.ece/ALTERNATES/s1200/Chihuahua-or-Muffin.jpg'\n",
    "prompt = 'please give the exact number of how many are chihuahuas and cupcakes inside the image?'\n",
    "\n",
    "display(Image(url=url))\n",
    "\n",
    "custom_response = get_openai_vision_response(prompt, url)\n",
    "print(custom_response.content)"
   ],
   "metadata": {
    "collapsed": false,
    "ExecuteTime": {
     "end_time": "2024-02-22T16:19:31.872637Z",
     "start_time": "2024-02-22T16:19:25.581444Z"
    }
   },
   "id": "23f9d78a3c341fb1",
   "execution_count": 3
  }
 ],
 "metadata": {
  "kernelspec": {
   "display_name": "Python 3 (ipykernel)",
   "language": "python",
   "name": "python3"
  },
  "language_info": {
   "codemirror_mode": {
    "name": "ipython",
    "version": 3
   },
   "file_extension": ".py",
   "mimetype": "text/x-python",
   "name": "python",
   "nbconvert_exporter": "python",
   "pygments_lexer": "ipython3",
   "version": "3.9.18"
  }
 },
 "nbformat": 4,
 "nbformat_minor": 5
}
