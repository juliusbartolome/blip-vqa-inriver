{
 "cells": [
  {
   "cell_type": "markdown",
   "source": [
    "# OpenAI Vision API (Preview)\n",
    "\n",
    "This notebook demonstrates how to use the OpenAI Vision API to determine if a product is in stock or out of stock. The API uses GPT-4 to analyze an image and provide a response. The API is currently in preview and is not available to the public.\n",
    "\n",
    "__Note:__ The OpenAI Vision API is currently in preview and is not available to the public. You will need to have access to the API to use it.\n",
    "\n",
    "__Note:__ Processing images with the OpenAI Vision API may incur additional costs. With the current pricing and the images tested in this notebook, the cost was approximately $0.01 per image."
   ],
   "metadata": {
    "collapsed": false
   },
   "id": "8ff46a3f5dd67cad"
  },
  {
   "cell_type": "code",
   "execution_count": 29,
   "id": "initial_id",
   "metadata": {
    "ExecuteTime": {
     "end_time": "2024-02-16T02:21:50.429639300Z",
     "start_time": "2024-02-16T02:21:50.107209800Z"
    }
   },
   "outputs": [],
   "source": [
    "import json\n",
    "import os\n",
    "import re\n",
    "import pandas as pd\n",
    "from openai import OpenAI\n",
    "\n",
    "openai_api_key = os.environ.get(\"OPENAI_API_KEY\")\n",
    "client = OpenAI(api_key=openai_api_key)\n",
    "\n",
    "class CustomOpenAIResponse:\n",
    "    def __init__(self, content: str, total_tokens: int):\n",
    "        self.content = content\n",
    "        self.total_tokens = total_tokens\n",
    "\n",
    "content_pattern = re.compile('[^a-zA-Z\\s]')\n",
    "def get_openai_vision_response(prompt_text: str, img_url: str):\n",
    "    response = client.chat.completions.create(\n",
    "        model=\"gpt-4-vision-preview\",\n",
    "        messages=[\n",
    "            {\n",
    "                \"role\": \"user\",\n",
    "                \"content\": [\n",
    "                    {\"type\": \"text\", \"text\": prompt_text},\n",
    "                    {\n",
    "                        \"type\": \"image_url\",\n",
    "                        \"image_url\": {\n",
    "                            \"url\": img_url,\n",
    "                        },\n",
    "                    },\n",
    "                ],\n",
    "            }\n",
    "        ],\n",
    "        max_tokens=100,\n",
    "    )\n",
    "    \n",
    "    content = content_pattern.sub('', response.choices[0].message.content)\n",
    "    return CustomOpenAIResponse(content, response.usage.total_tokens)\n",
    "    \n",
    "def load_input_data():\n",
    "    with open('../input.json', 'r') as file:\n",
    "        json_data = json.load(file)\n",
    "    return json_data\n",
    "\n",
    "def color_cells(row):\n",
    "    if row[\"In-Stock\"] == \"Yes\" and row[\"Out-of-Stock\"] == \"No\":\n",
    "        return [\"background-color: #296644\"] * len(row)\n",
    "    else:\n",
    "        return [\"background-color: #82323a\"] * len(row)"
   ]
  },
  {
   "cell_type": "markdown",
   "source": [
    "## Execution\n",
    "\n",
    "The code below will load the input data from the `input.json` file and then use the OpenAI Vision API to determine if the product is in stock or out of stock. The results will be displayed in a table with green cells indicating the product is in stock and red cells indicating the product is out of stock."
   ],
   "metadata": {
    "collapsed": false
   },
   "id": "44d0e3f69f151f3f"
  },
  {
   "cell_type": "code",
   "execution_count": 30,
   "id": "512f5ad71aa8d67e",
   "metadata": {
    "collapsed": false,
    "ExecuteTime": {
     "end_time": "2024-02-16T02:22:59.790161200Z",
     "start_time": "2024-02-16T02:21:50.435628300Z"
    }
   },
   "outputs": [
    {
     "name": "stdout",
     "output_type": "stream",
     "text": [
      "Is the product available for purchase? Please answer 'Yes' or 'No' only.\n",
      "Total tokens used: 21260\n"
     ]
    },
    {
     "data": {
      "text/plain": "<pandas.io.formats.style.Styler at 0x2dbbafcf1c0>",
      "text/html": "<style type=\"text/css\">\n#T_947e3_row0_col0, #T_947e3_row0_col1, #T_947e3_row0_col2, #T_947e3_row1_col0, #T_947e3_row1_col1, #T_947e3_row1_col2, #T_947e3_row2_col0, #T_947e3_row2_col1, #T_947e3_row2_col2, #T_947e3_row3_col0, #T_947e3_row3_col1, #T_947e3_row3_col2, #T_947e3_row4_col0, #T_947e3_row4_col1, #T_947e3_row4_col2, #T_947e3_row5_col0, #T_947e3_row5_col1, #T_947e3_row5_col2, #T_947e3_row6_col0, #T_947e3_row6_col1, #T_947e3_row6_col2, #T_947e3_row7_col0, #T_947e3_row7_col1, #T_947e3_row7_col2, #T_947e3_row8_col0, #T_947e3_row8_col1, #T_947e3_row8_col2, #T_947e3_row9_col0, #T_947e3_row9_col1, #T_947e3_row9_col2 {\n  background-color: #296644;\n}\n</style>\n<table id=\"T_947e3\">\n  <thead>\n    <tr>\n      <th class=\"blank level0\" >&nbsp;</th>\n      <th id=\"T_947e3_level0_col0\" class=\"col_heading level0 col0\" >Source</th>\n      <th id=\"T_947e3_level0_col1\" class=\"col_heading level0 col1\" >In-Stock</th>\n      <th id=\"T_947e3_level0_col2\" class=\"col_heading level0 col2\" >Out-of-Stock</th>\n    </tr>\n  </thead>\n  <tbody>\n    <tr>\n      <th id=\"T_947e3_level0_row0\" class=\"row_heading level0 row0\" >0</th>\n      <td id=\"T_947e3_row0_col0\" class=\"data row0 col0\" >alkosto.com</td>\n      <td id=\"T_947e3_row0_col1\" class=\"data row0 col1\" >Yes</td>\n      <td id=\"T_947e3_row0_col2\" class=\"data row0 col2\" >No</td>\n    </tr>\n    <tr>\n      <th id=\"T_947e3_level0_row1\" class=\"row_heading level0 row1\" >1</th>\n      <td id=\"T_947e3_row1_col0\" class=\"data row1 col0\" >alza.cz</td>\n      <td id=\"T_947e3_row1_col1\" class=\"data row1 col1\" >Yes</td>\n      <td id=\"T_947e3_row1_col2\" class=\"data row1 col2\" >No</td>\n    </tr>\n    <tr>\n      <th id=\"T_947e3_level0_row2\" class=\"row_heading level0 row2\" >2</th>\n      <td id=\"T_947e3_row2_col0\" class=\"data row2 col0\" >bestbuy.com</td>\n      <td id=\"T_947e3_row2_col1\" class=\"data row2 col1\" >Yes</td>\n      <td id=\"T_947e3_row2_col2\" class=\"data row2 col2\" >No</td>\n    </tr>\n    <tr>\n      <th id=\"T_947e3_level0_row3\" class=\"row_heading level0 row3\" >3</th>\n      <td id=\"T_947e3_row3_col0\" class=\"data row3 col0\" >biccamera.com</td>\n      <td id=\"T_947e3_row3_col1\" class=\"data row3 col1\" >Yes</td>\n      <td id=\"T_947e3_row3_col2\" class=\"data row3 col2\" >No</td>\n    </tr>\n    <tr>\n      <th id=\"T_947e3_level0_row4\" class=\"row_heading level0 row4\" >4</th>\n      <td id=\"T_947e3_row4_col0\" class=\"data row4 col0\" >coolblue.nl</td>\n      <td id=\"T_947e3_row4_col1\" class=\"data row4 col1\" >Yes</td>\n      <td id=\"T_947e3_row4_col2\" class=\"data row4 col2\" >No</td>\n    </tr>\n    <tr>\n      <th id=\"T_947e3_level0_row5\" class=\"row_heading level0 row5\" >5</th>\n      <td id=\"T_947e3_row5_col0\" class=\"data row5 col0\" >costco.com</td>\n      <td id=\"T_947e3_row5_col1\" class=\"data row5 col1\" >Yes</td>\n      <td id=\"T_947e3_row5_col2\" class=\"data row5 col2\" >No</td>\n    </tr>\n    <tr>\n      <th id=\"T_947e3_level0_row6\" class=\"row_heading level0 row6\" >6</th>\n      <td id=\"T_947e3_row6_col0\" class=\"data row6 col0\" >digitec.ch.de</td>\n      <td id=\"T_947e3_row6_col1\" class=\"data row6 col1\" >Yes</td>\n      <td id=\"T_947e3_row6_col2\" class=\"data row6 col2\" >No</td>\n    </tr>\n    <tr>\n      <th id=\"T_947e3_level0_row7\" class=\"row_heading level0 row7\" >7</th>\n      <td id=\"T_947e3_row7_col0\" class=\"data row7 col0\" >yodobashi.com</td>\n      <td id=\"T_947e3_row7_col1\" class=\"data row7 col1\" >Yes</td>\n      <td id=\"T_947e3_row7_col2\" class=\"data row7 col2\" >No</td>\n    </tr>\n    <tr>\n      <th id=\"T_947e3_level0_row8\" class=\"row_heading level0 row8\" >8</th>\n      <td id=\"T_947e3_row8_col0\" class=\"data row8 col0\" >yamada.denkiweb.com</td>\n      <td id=\"T_947e3_row8_col1\" class=\"data row8 col1\" >Yes</td>\n      <td id=\"T_947e3_row8_col2\" class=\"data row8 col2\" >No</td>\n    </tr>\n    <tr>\n      <th id=\"T_947e3_level0_row9\" class=\"row_heading level0 row9\" >9</th>\n      <td id=\"T_947e3_row9_col0\" class=\"data row9 col0\" >walmart.com</td>\n      <td id=\"T_947e3_row9_col1\" class=\"data row9 col1\" >Yes</td>\n      <td id=\"T_947e3_row9_col2\" class=\"data row9 col2\" >No</td>\n    </tr>\n  </tbody>\n</table>\n"
     },
     "execution_count": 30,
     "metadata": {},
     "output_type": "execute_result"
    }
   ],
   "source": [
    "data = load_input_data()\n",
    "\n",
    "prompt = \"Is the product available for purchase? Please answer 'Yes' or 'No' only.\"\n",
    "total_tokens_used = 0\n",
    "df = pd.DataFrame(columns=[\"Source\", \"In-Stock\", \"Out-of-Stock\"])\n",
    "\n",
    "for i in range(0, len(data)):\n",
    "    in_stock_img_url = data[i]['in_stock']\n",
    "    in_stock_response = get_openai_vision_response(prompt, in_stock_img_url)\n",
    "    total_tokens_used += in_stock_response.total_tokens\n",
    "\n",
    "    out_of_stock_img_url = data[i]['out_of_stock']\n",
    "    out_of_stock_response = get_openai_vision_response(prompt, out_of_stock_img_url)\n",
    "    total_tokens_used += out_of_stock_response.total_tokens\n",
    "\n",
    "    df.loc[i] = [data[i][\"name\"], in_stock_response.content, out_of_stock_response.content]\n",
    "\n",
    "print(f\"{prompt}\")\n",
    "print(f\"Total tokens used: {total_tokens_used}\")\n",
    "df.style.apply(color_cells, axis=1)"
   ]
  },
  {
   "cell_type": "code",
   "outputs": [],
   "source": [
    "# url = 'https://i2-prod.mirror.co.uk/incoming/article7539650.ece/ALTERNATES/s1200/Chihuahua-or-Muffin.jpg'\n",
    "# prompt = 'please give the exact number of how many are chihuahuas and cupcakes inside the image?'\n",
    "# \n",
    "# custom_response = get_openai_vision_response(prompt, url)\n",
    "# print(custom_response.content)"
   ],
   "metadata": {
    "collapsed": false,
    "ExecuteTime": {
     "end_time": "2024-02-16T02:22:59.812505700Z",
     "start_time": "2024-02-16T02:22:59.795384400Z"
    }
   },
   "id": "23f9d78a3c341fb1",
   "execution_count": 31
  }
 ],
 "metadata": {
  "kernelspec": {
   "display_name": "Python 3 (ipykernel)",
   "language": "python",
   "name": "python3"
  },
  "language_info": {
   "codemirror_mode": {
    "name": "ipython",
    "version": 3
   },
   "file_extension": ".py",
   "mimetype": "text/x-python",
   "name": "python",
   "nbconvert_exporter": "python",
   "pygments_lexer": "ipython3",
   "version": "3.9.18"
  }
 },
 "nbformat": 4,
 "nbformat_minor": 5
}
