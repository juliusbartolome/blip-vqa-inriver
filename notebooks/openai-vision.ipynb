{
 "cells": [
  {
   "cell_type": "code",
   "execution_count": 58,
   "id": "initial_id",
   "metadata": {
    "ExecuteTime": {
     "end_time": "2024-02-12T09:27:41.922489400Z",
     "start_time": "2024-02-12T09:27:41.274999900Z"
    }
   },
   "outputs": [],
   "source": [
    "import json\n",
    "import os\n",
    "import pandas as pd\n",
    "from openai import OpenAI\n",
    "\n",
    "openai_api_key = os.environ.get(\"OPENAI_API_KEY\")\n",
    "client = OpenAI(api_key=openai_api_key)\n",
    "def get_openai_vision_response(prompt_text: str, img_url: str):\n",
    "    response = client.chat.completions.create(\n",
    "        model=\"gpt-4-vision-preview\",\n",
    "        messages=[\n",
    "            {\n",
    "                \"role\": \"user\",\n",
    "                \"content\": [\n",
    "                    {\"type\": \"text\", \"text\": prompt_text},\n",
    "                    {\n",
    "                        \"type\": \"image_url\",\n",
    "                        \"image_url\": {\n",
    "                            \"url\": img_url,\n",
    "                        },\n",
    "                    },\n",
    "                ],\n",
    "            }\n",
    "        ],\n",
    "        max_tokens=5,\n",
    "    )\n",
    "    \n",
    "    return response.choices[0].message.content\n",
    "    \n",
    "def load_input_data():\n",
    "    with open('../input.json', 'r') as file:\n",
    "        json_data = json.load(file)\n",
    "    return json_data\n",
    "\n",
    "def color_cells(row):\n",
    "    if row[\"In-Stock\"] == \"Yes\" and row[\"Out-of-Stock\"] == \"No\":\n",
    "        return [\"background-color: #296644\"] * len(row)\n",
    "    else:\n",
    "        return [\"background-color: #82323a\"] * len(row)"
   ]
  },
  {
   "cell_type": "code",
   "execution_count": 59,
   "id": "512f5ad71aa8d67e",
   "metadata": {
    "collapsed": false,
    "ExecuteTime": {
     "end_time": "2024-02-12T09:28:36.340877800Z",
     "start_time": "2024-02-12T09:27:41.929008500Z"
    }
   },
   "outputs": [
    {
     "name": "stdout",
     "output_type": "stream",
     "text": [
      "Is the product available for purchase? Please answer 'Yes' or 'No' only.\n"
     ]
    },
    {
     "data": {
      "text/plain": "<pandas.io.formats.style.Styler at 0x13e57dc6100>",
      "text/html": "<style type=\"text/css\">\n#T_e624a_row0_col0, #T_e624a_row0_col1, #T_e624a_row0_col2, #T_e624a_row1_col0, #T_e624a_row1_col1, #T_e624a_row1_col2, #T_e624a_row2_col0, #T_e624a_row2_col1, #T_e624a_row2_col2, #T_e624a_row3_col0, #T_e624a_row3_col1, #T_e624a_row3_col2, #T_e624a_row4_col0, #T_e624a_row4_col1, #T_e624a_row4_col2, #T_e624a_row5_col0, #T_e624a_row5_col1, #T_e624a_row5_col2, #T_e624a_row6_col0, #T_e624a_row6_col1, #T_e624a_row6_col2, #T_e624a_row7_col0, #T_e624a_row7_col1, #T_e624a_row7_col2, #T_e624a_row8_col0, #T_e624a_row8_col1, #T_e624a_row8_col2, #T_e624a_row9_col0, #T_e624a_row9_col1, #T_e624a_row9_col2 {\n  background-color: #296644;\n}\n</style>\n<table id=\"T_e624a\">\n  <thead>\n    <tr>\n      <th class=\"blank level0\" >&nbsp;</th>\n      <th id=\"T_e624a_level0_col0\" class=\"col_heading level0 col0\" >Source</th>\n      <th id=\"T_e624a_level0_col1\" class=\"col_heading level0 col1\" >In-Stock</th>\n      <th id=\"T_e624a_level0_col2\" class=\"col_heading level0 col2\" >Out-of-Stock</th>\n    </tr>\n  </thead>\n  <tbody>\n    <tr>\n      <th id=\"T_e624a_level0_row0\" class=\"row_heading level0 row0\" >0</th>\n      <td id=\"T_e624a_row0_col0\" class=\"data row0 col0\" >alkosto.com</td>\n      <td id=\"T_e624a_row0_col1\" class=\"data row0 col1\" >Yes</td>\n      <td id=\"T_e624a_row0_col2\" class=\"data row0 col2\" >No</td>\n    </tr>\n    <tr>\n      <th id=\"T_e624a_level0_row1\" class=\"row_heading level0 row1\" >1</th>\n      <td id=\"T_e624a_row1_col0\" class=\"data row1 col0\" >alza.cz</td>\n      <td id=\"T_e624a_row1_col1\" class=\"data row1 col1\" >Yes</td>\n      <td id=\"T_e624a_row1_col2\" class=\"data row1 col2\" >No</td>\n    </tr>\n    <tr>\n      <th id=\"T_e624a_level0_row2\" class=\"row_heading level0 row2\" >2</th>\n      <td id=\"T_e624a_row2_col0\" class=\"data row2 col0\" >bestbuy.com</td>\n      <td id=\"T_e624a_row2_col1\" class=\"data row2 col1\" >Yes</td>\n      <td id=\"T_e624a_row2_col2\" class=\"data row2 col2\" >No</td>\n    </tr>\n    <tr>\n      <th id=\"T_e624a_level0_row3\" class=\"row_heading level0 row3\" >3</th>\n      <td id=\"T_e624a_row3_col0\" class=\"data row3 col0\" >biccamera.com</td>\n      <td id=\"T_e624a_row3_col1\" class=\"data row3 col1\" >Yes</td>\n      <td id=\"T_e624a_row3_col2\" class=\"data row3 col2\" >No</td>\n    </tr>\n    <tr>\n      <th id=\"T_e624a_level0_row4\" class=\"row_heading level0 row4\" >4</th>\n      <td id=\"T_e624a_row4_col0\" class=\"data row4 col0\" >coolblue.nl</td>\n      <td id=\"T_e624a_row4_col1\" class=\"data row4 col1\" >Yes</td>\n      <td id=\"T_e624a_row4_col2\" class=\"data row4 col2\" >No</td>\n    </tr>\n    <tr>\n      <th id=\"T_e624a_level0_row5\" class=\"row_heading level0 row5\" >5</th>\n      <td id=\"T_e624a_row5_col0\" class=\"data row5 col0\" >costco.com</td>\n      <td id=\"T_e624a_row5_col1\" class=\"data row5 col1\" >Yes</td>\n      <td id=\"T_e624a_row5_col2\" class=\"data row5 col2\" >No</td>\n    </tr>\n    <tr>\n      <th id=\"T_e624a_level0_row6\" class=\"row_heading level0 row6\" >6</th>\n      <td id=\"T_e624a_row6_col0\" class=\"data row6 col0\" >digitec.ch.de</td>\n      <td id=\"T_e624a_row6_col1\" class=\"data row6 col1\" >Yes</td>\n      <td id=\"T_e624a_row6_col2\" class=\"data row6 col2\" >No</td>\n    </tr>\n    <tr>\n      <th id=\"T_e624a_level0_row7\" class=\"row_heading level0 row7\" >7</th>\n      <td id=\"T_e624a_row7_col0\" class=\"data row7 col0\" >yodobashi.com</td>\n      <td id=\"T_e624a_row7_col1\" class=\"data row7 col1\" >Yes</td>\n      <td id=\"T_e624a_row7_col2\" class=\"data row7 col2\" >No</td>\n    </tr>\n    <tr>\n      <th id=\"T_e624a_level0_row8\" class=\"row_heading level0 row8\" >8</th>\n      <td id=\"T_e624a_row8_col0\" class=\"data row8 col0\" >yamada.denkiweb.com</td>\n      <td id=\"T_e624a_row8_col1\" class=\"data row8 col1\" >Yes</td>\n      <td id=\"T_e624a_row8_col2\" class=\"data row8 col2\" >No</td>\n    </tr>\n    <tr>\n      <th id=\"T_e624a_level0_row9\" class=\"row_heading level0 row9\" >9</th>\n      <td id=\"T_e624a_row9_col0\" class=\"data row9 col0\" >walmart.com</td>\n      <td id=\"T_e624a_row9_col1\" class=\"data row9 col1\" >Yes</td>\n      <td id=\"T_e624a_row9_col2\" class=\"data row9 col2\" >No</td>\n    </tr>\n  </tbody>\n</table>\n"
     },
     "execution_count": 59,
     "metadata": {},
     "output_type": "execute_result"
    }
   ],
   "source": [
    "data = load_input_data()\n",
    "\n",
    "prompt = \"Is the product available for purchase? Please answer 'Yes' or 'No' only.\"\n",
    "df = pd.DataFrame(columns=[\"Source\", \"In-Stock\", \"Out-of-Stock\"])\n",
    "\n",
    "for i in range(0, len(data)):\n",
    "    in_stock_img_url = data[i]['in_stock']\n",
    "    in_stock_response = get_openai_vision_response(prompt, in_stock_img_url)\n",
    "\n",
    "    out_of_stock_img_url = data[i]['out_of_stock']\n",
    "    out_of_stock_response = get_openai_vision_response(prompt, out_of_stock_img_url)\n",
    "\n",
    "    df.loc[i] = [data[i][\"name\"], in_stock_response, out_of_stock_response]\n",
    "\n",
    "print(f\"{prompt}\")\n",
    "df.style.apply(color_cells, axis=1)"
   ]
  }
 ],
 "metadata": {
  "kernelspec": {
   "display_name": "Python 3 (ipykernel)",
   "language": "python",
   "name": "python3"
  },
  "language_info": {
   "codemirror_mode": {
    "name": "ipython",
    "version": 3
   },
   "file_extension": ".py",
   "mimetype": "text/x-python",
   "name": "python",
   "nbconvert_exporter": "python",
   "pygments_lexer": "ipython3",
   "version": "3.9.18"
  }
 },
 "nbformat": 4,
 "nbformat_minor": 5
}
