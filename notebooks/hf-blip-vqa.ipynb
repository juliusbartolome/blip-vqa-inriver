{
 "cells": [
  {
   "cell_type": "markdown",
   "source": [
    "# Hugging Face: Salesforce/blip-vqa-capfilt-large"
   ],
   "metadata": {
    "collapsed": false
   },
   "id": "3d0f31f4ba173fab"
  },
  {
   "cell_type": "code",
   "outputs": [],
   "source": [
    "import torch\n",
    "import requests\n",
    "from PIL import Image\n",
    "from transformers import AutoProcessor, AutoModelForCausalLM"
   ],
   "metadata": {
    "collapsed": false,
    "ExecuteTime": {
     "end_time": "2024-02-12T04:55:08.398039500Z",
     "start_time": "2024-02-12T04:55:08.355297700Z"
    }
   },
   "id": "df4d970bb7f8eb9",
   "execution_count": 26
  },
  {
   "cell_type": "code",
   "outputs": [],
   "source": [
    "model_name = \"microsoft/git-large-textvqa\"\n",
    "processor = AutoProcessor.from_pretrained(model_name)\n",
    "model = AutoModelForCausalLM.from_pretrained(model_name)"
   ],
   "metadata": {
    "collapsed": true
   },
   "id": "initial_id",
   "execution_count": null
  },
  {
   "cell_type": "code",
   "outputs": [
    {
     "name": "stdout",
     "output_type": "stream",
     "text": [
      "alkosto.com\n",
      "In-Stock: ['is the product sold out? yes']\n",
      "Out-of-Stock: ['is the product sold out? yes']\n",
      "-----------------------------------\n"
     ]
    }
   ],
   "source": [
    "def is_product_available(question: str, img_url: str):\n",
    "    raw_image = Image.open(requests.get(img_url, stream=True).raw).convert('RGB')\n",
    "    pixel_values = processor(images=raw_image, return_tensors=\"pt\").pixel_values\n",
    "\n",
    "    input_ids = processor(text=question, add_special_tokens=False).input_ids\n",
    "    input_ids = [processor.tokenizer.cls_token_id] + input_ids\n",
    "    input_ids = torch.tensor(input_ids).unsqueeze(0)\n",
    "\n",
    "    generated_ids = model.generate(pixel_values=pixel_values, input_ids=input_ids, max_length=50)\n",
    "    \n",
    "    return processor.batch_decode(generated_ids, skip_special_tokens=True)\n",
    "\n",
    "retailers = [\n",
    "    {\n",
    "        \"name\": \"alkosto.com\",\n",
    "        \"prompt\": \"Is the product sold out?\",\n",
    "        \"in_stock\": \"https://img001.prntscr.com/file/img001/Rd5e6SJARZm9OplHevI54A.png\",\n",
    "        \"out_of_stock\": \"https://img001.prntscr.com/file/img001/v3JQkBjSQ2KzmNDFJf8DfA.png\"\n",
    "    },\n",
    "    {\n",
    "        \"name\": \"alza.cz\",\n",
    "        \"prompt\": \"Is the price available for the product?\",\n",
    "        \"in_stock\": \"https://img001.prntscr.com/file/img001/RXWow4UKTDKXySEshfV6Cg.png\",\n",
    "        \"out_of_stock\": \"https://img001.prntscr.com/file/img001/6aWiJaT8Q5SipHDyhM20JA.png\"\n",
    "    }\n",
    "]\n",
    "\n",
    "for retailer in retailers:\n",
    "    print(f\"{retailer['name']}\")\n",
    "    is_available = is_product_available(retailer[\"prompt\"], retailer[\"in_stock\"])\n",
    "    print(f\"In-Stock: {is_available}\")\n",
    "    \n",
    "    is_available = is_product_available(retailer[\"prompt\"], retailer[\"out_of_stock\"])\n",
    "    print(f\"Out-of-Stock: {is_available}\")\n",
    "    \n",
    "    print(\"-----------------------------------\\n\")"
   ],
   "metadata": {
    "collapsed": false,
    "ExecuteTime": {
     "end_time": "2024-02-12T06:55:50.998813400Z",
     "start_time": "2024-02-12T06:55:13.355037200Z"
    }
   },
   "id": "d58fc614f74eaa07",
   "execution_count": 39
  }
 ],
 "metadata": {
  "kernelspec": {
   "display_name": "Python 3",
   "language": "python",
   "name": "python3"
  },
  "language_info": {
   "codemirror_mode": {
    "name": "ipython",
    "version": 2
   },
   "file_extension": ".py",
   "mimetype": "text/x-python",
   "name": "python",
   "nbconvert_exporter": "python",
   "pygments_lexer": "ipython2",
   "version": "2.7.6"
  }
 },
 "nbformat": 4,
 "nbformat_minor": 5
}
