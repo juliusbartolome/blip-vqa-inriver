{
 "cells": [
  {
   "cell_type": "markdown",
   "source": [
    "# Hugging Face: Salesforce/blip-vqa-capfilt-large"
   ],
   "metadata": {
    "collapsed": false
   },
   "id": "3d0f31f4ba173fab"
  },
  {
   "cell_type": "code",
   "outputs": [],
   "source": [
    "import requests\n",
    "from PIL import Image\n",
    "from transformers import BlipProcessor, BlipForQuestionAnswering\n",
    "\n",
    "model_name = \"Salesforce/blip-vqa-capfilt-large\"\n",
    "processor = BlipProcessor.from_pretrained(model_name)\n",
    "model = BlipForQuestionAnswering.from_pretrained(model_name)"
   ],
   "metadata": {
    "collapsed": true,
    "ExecuteTime": {
     "end_time": "2024-02-10T14:24:34.893631900Z",
     "start_time": "2024-02-10T14:24:24.996058300Z"
    }
   },
   "id": "initial_id",
   "execution_count": 28
  },
  {
   "cell_type": "code",
   "outputs": [
    {
     "name": "stdout",
     "output_type": "stream",
     "text": [
      "alkosto.com\n",
      "In-Stock: no\n",
      "Out-of-Stock: yes\n",
      "alza.cz\n",
      "In-Stock: no\n",
      "Out-of-Stock: no\n"
     ]
    }
   ],
   "source": [
    "def is_product_available(img_url: str):\n",
    "    raw_image = Image.open(requests.get(img_url, stream=True).raw).convert('RGB')\n",
    "    prompt = f\"Is the product sold out or not?\"\n",
    "    inputs = processor(raw_image, text=prompt, return_tensors=\"pt\")\n",
    "    out = model.generate(\n",
    "        **inputs,\n",
    "        max_new_tokens=50)\n",
    "    \n",
    "    return processor.decode(out[0], skip_special_tokens=True)\n",
    "\n",
    "retailers = [\n",
    "    {\n",
    "        \"name\": \"alkosto.com\",\n",
    "        \"prompt\": \"Is the product not sold out? Please answer 'yes' or 'no'.\",\n",
    "        \"in_stock\": \"https://img001.prntscr.com/file/img001/Rd5e6SJARZm9OplHevI54A.png\",\n",
    "        \"out_of_stock\": \"https://img001.prntscr.com/file/img001/v3JQkBjSQ2KzmNDFJf8DfA.png\"\n",
    "    },\n",
    "    {\n",
    "        \"name\": \"alza.cz\",\n",
    "        \"prompt\": \"Is the product in stock or not? Please answer 'yes' or 'no'\",\n",
    "        \"in_stock\": \"https://img001.prntscr.com/file/img001/RXWow4UKTDKXySEshfV6Cg.png\",\n",
    "        \"out_of_stock\": \"https://img001.prntscr.com/file/img001/6aWiJaT8Q5SipHDyhM20JA.png\"\n",
    "    }\n",
    "]\n",
    "\n",
    "for retailer in retailers:\n",
    "    print(f\"{retailer['name']}\")\n",
    "    is_available = is_product_available(retailer[\"in_stock\"])\n",
    "    print(f\"In-Stock: {is_available}\")\n",
    "    \n",
    "    is_available = is_product_available(retailer[\"out_of_stock\"])\n",
    "    print(f\"Out-of-Stock: {is_available}\")"
   ],
   "metadata": {
    "collapsed": false,
    "ExecuteTime": {
     "end_time": "2024-02-10T14:33:01.391409200Z",
     "start_time": "2024-02-10T14:32:54.045149600Z"
    }
   },
   "id": "d58fc614f74eaa07",
   "execution_count": 36
  }
 ],
 "metadata": {
  "kernelspec": {
   "display_name": "Python 3",
   "language": "python",
   "name": "python3"
  },
  "language_info": {
   "codemirror_mode": {
    "name": "ipython",
    "version": 2
   },
   "file_extension": ".py",
   "mimetype": "text/x-python",
   "name": "python",
   "nbconvert_exporter": "python",
   "pygments_lexer": "ipython2",
   "version": "2.7.6"
  }
 },
 "nbformat": 4,
 "nbformat_minor": 5
}
